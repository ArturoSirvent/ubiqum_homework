{
 "cells": [
  {
   "cell_type": "markdown",
   "metadata": {},
   "source": [
    "# <ins>TASK 2: Understanding Customer Demographics</ins>\n",
    "*Report writen by Arturo Sirvent Fresneda (cohort DS04, tutor Felice)*  \n",
    "**26 JULY**"
   ]
  },
  {
   "cell_type": "markdown",
   "metadata": {},
   "source": [
    "**................................................................................................................................................................................**\n",
    "# <ins>Index</ins>\n",
    "\n",
    "#### Introduction\n",
    "#### Data dictionary\n",
    "#### QUESTIONS to answer\n",
    "#### Code\n",
    "\n",
    "\n",
    "#### Final conclusions\n",
    "\n",
    "**................................................................................................................................................................................**\n"
   ]
  },
  {
   "cell_type": "markdown",
   "metadata": {},
   "source": [
    "# <ins>Introduction</ins>\n",
    "\n",
    "After handing the first report about the EDA on the Demographic Data, Danielle Sherman,  \n",
    "the Chief Technology Officer at Blackwell Electronics (our boss), has thanked us for the job,  \n",
    "and has asked for the second part of the analysis, build a model and get a deeper understanding  \n",
    "from the data. Specifically he has commented some ideas from  Martin Goodrich, the VP of Sales, and  \n",
    "some questions that Daniel has (these and more are summed up in the **Questions and Objectives** part in this report).\n",
    "\n",
    "Summarizing, we have to:\n",
    "* Investigate more in depth some relations we saw in the EDA.\n",
    "* Build ML algorithms for making predictions and getting a better understanding on the data.\n",
    "    1. Test the models with different metrics.\n",
    "    * Explore the hyperparameters space searching for the best performance.\n",
    "    * Evaluate the models to be sure that the final choice is the best and most reliable model found so far. \n",
    "    "
   ]
  },
  {
   "cell_type": "markdown",
   "metadata": {},
   "source": [
    "# <ins>Data Dictionary</ins>\n",
    "\n",
    "We have explained this in task 1, however, since we are using the same data, lets review the data struture of out dataset.\n",
    "\n",
    "The data from our dataset has 5 variables, one in each column.  \n",
    "Some are numerical but other categories with a number assigned to it.\n",
    "\n",
    "**In-store**  \n",
    "    0: Online  \n",
    "    1: In the store  \n",
    "\n",
    "**Age**  \n",
    "    Numerical value of the age of the person who made the purchase (integer).  \n",
    "    \n",
    "**Items**  \n",
    "    Numerical value of the number of items purchased by a person. (integer)  \n",
    "    \n",
    "**Amount**  \n",
    "    Numerical value of the price paid in a purchase. (float)  \n",
    "    \n",
    "**Region**  \n",
    "    Categorical reference to the region in which the purchase was made.  \n",
    "    \n",
    "    1: North\n",
    "    2: South \n",
    "    3: East \n",
    "    4: West \n",
    "    "
   ]
  },
  {
   "cell_type": "markdown",
   "metadata": {},
   "source": [
    "# <ins>QUESTIONS to answer</ins>\n",
    "\n",
    "Down are the questions that arise from the e-mail Daniel sent us. I will answer them as best as possible in this report.\n",
    "\n",
    "#### From the e-mail: \n",
    "Directly extacted from the e-mail:  \n",
    "\n",
    "* *... Martin Goodrich thinks that **customers who shop in the store are older than customers who shop online** and that **older people spend more money on electronics than younger people**...changes to the website to attract older buyers.*\n",
    "  \n",
    "  Ç\n",
    "* ... *gain insight into any **factors that can better understand the age of our customers** and if **it correlates with how much they spend**...*\n",
    "  \n",
    "  \n",
    "* Infer any insights about customer purchasing behavior:\n",
    "    * *Are there **differences in the age of customers between regions?** If so, can we predict the age of a customer in a region based on other demographic data?*\n",
    "    * *We need to investigate Martin’s hypothesis: Is there any **correlation between age of a customer and if the transaction was made online or in the store**? Do any **other factors predict if a customer will buy online or in our stores?** *\n",
    "      \n",
    "      \n",
    "* TO DO: *I’d like you to use machine learning to build a predictive model that can help us in our search.* And * create a brief report of your findings and conclusions and an explanation of how you arrived at those conclusions... *\n",
    "    \n",
    "#### From the POA  \n",
    "Our work is to answer to Daniel's questions, and the POA from Task 2 gives us some information about how to do it.\n",
    "* Discretize Age and use it as the dependent variable; experiment with different numbers of bins.\n",
    "* Discretize Amount and use it as the dependent variable. Can a useful model be constructed?\n",
    "* Use two additional classification algorithms from Sci-Kit Learn: \n",
    "    * RandomForestClassifier\n",
    "    * GradientBoostingClassifier\n",
    "Other questions:\n",
    "* What about items? Are these even in the tree? Why or why not?\n",
    "* What about classifying Where a transaction took place -can that be done successfully?\n",
    "* Tune the parameters of the models (maxdepth etc...).\n",
    "(It is mentioned that ideally you should be able to achieve an accuracy of higher than 75%)  \n",
    " "
   ]
  },
  {
   "cell_type": "markdown",
   "metadata": {},
   "source": [
    "# Things to add\n",
    "\n",
    "* Grid search, explicarlo y el cross-validation\n",
    "* Dummy variables\n",
    "* search for different discretizations in: amount and age <br> buscar decission tree descritaizers y k means discretization..\n",
    "* Regresiones y tal, no estaría de más meter una\n",
    "* Plotear y explicar feature\\_importance_ atribute\n",
    "\n",
    "## Things to mention/check while writting the report\n",
    "\n",
    "* Mencionar lo de la varianza, el bias, el cálculo de errores y la robustez del modelo. Importancia de la VALIDACIÓN del modelo.\n",
    "* Uso de stratify si los datos no son homogeneos, mismo numero de cada clas. Esto se usa para que una <br> característica este presente en el mismo porcentaje en todas las particiones. \n",
    "* Hablar de accuracy, precission,recall, f1, AUC ROC!! etc...\n",
    "* Dejar muy claro al hablar de regresiones etc, que hablamos de la muestra y no conocemos la POBLACIÓN\n",
    "* https://scikit-learn.org/stable/modules/generated/sklearn.preprocessing.StandardScaler.html <br> resulta que el  DT es invariante al reescalado ese, gracias a que se procesa una a una y no de forma conjunta, poner ejemplos donde esto si es util."
   ]
  },
  {
   "cell_type": "markdown",
   "metadata": {},
   "source": [
    "# <ins>CODE</ins>\n"
   ]
  },
  {
   "cell_type": "code",
   "execution_count": 1,
   "metadata": {},
   "outputs": [],
   "source": [
    "#import all the required libraries\n",
    "import numpy as np\n",
    "import seaborn as sns\n",
    "import matplotlib.pyplot as plt\n",
    "import pandas as pd \n",
    "\n",
    "from sklearn.model_selection import train_test_split, cross_val_score\n",
    "from sklearn.metrics import accuracy_score, classification_report\n",
    "from sklearn.ensemble import RandomForestClassifier,RandomForestRegressor, GradientBoostingClassifier\n",
    "from sklearn.tree import DecisionTreeClassifier,DecisionTreeRegressor, plot_tree\n"
   ]
  },
  {
   "cell_type": "code",
   "execution_count": null,
   "metadata": {},
   "outputs": [],
   "source": []
  },
  {
   "cell_type": "code",
   "execution_count": null,
   "metadata": {},
   "outputs": [],
   "source": []
  },
  {
   "cell_type": "code",
   "execution_count": null,
   "metadata": {},
   "outputs": [],
   "source": []
  }
 ],
 "metadata": {
  "kernelspec": {
   "display_name": "Python 3",
   "language": "python",
   "name": "python3"
  },
  "language_info": {
   "codemirror_mode": {
    "name": "ipython",
    "version": 3
   },
   "file_extension": ".py",
   "mimetype": "text/x-python",
   "name": "python",
   "nbconvert_exporter": "python",
   "pygments_lexer": "ipython3",
   "version": "3.8.5"
  }
 },
 "nbformat": 4,
 "nbformat_minor": 4
}
